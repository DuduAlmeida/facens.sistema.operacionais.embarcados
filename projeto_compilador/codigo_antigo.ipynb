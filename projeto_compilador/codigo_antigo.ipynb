{
  "cells": [
    {
      "cell_type": "code",
      "execution_count": null,
      "metadata": {
        "colab": {
          "base_uri": "https://localhost:8080/"
        },
        "id": "LalQU1Fk0GBT",
        "outputId": "ae9bef29-c6fb-4d4f-d57a-e395f364d7f0"
      },
      "outputs": [],
      "source": [
        "## lendo o código fonte\n",
        "import re\n",
        "\n",
        "nomeArquivo = 'codigo.js'\n",
        "arquivo = open(nomeArquivo,'r')\n",
        "for l in arquivo.readlines():\n",
        "    l = l.replace('\\n','') # remove a quebra de linha\n",
        "    print(l)"
      ]
    },
    {
      "cell_type": "code",
      "execution_count": null,
      "metadata": {
        "id": "SXBUw7G261vF"
      },
      "outputs": [],
      "source": [
        "KEY_IF = \"if\"\n",
        "KEY_ELSE = \"else\"\n",
        "KEY_RETURN = \"return\"\n",
        "KEY_FUNCTION = \"function\"\n",
        "KEY_BRACKET_OPEN = \"(\"\n",
        "KEY_BRACKET_CLOSE = \")\"\n",
        "KEY_SQUARE_BRACKET_OPEN = \"[\"\n",
        "KEY_SQUARE_BRACKET_CLOSE = \"]\"\n",
        "KEY_KEY_OPEN = \"{\"\n",
        "KEY_KEY_CLOSE = \"}\"\n",
        "KEY_KEY_CLOSE = \"}\"\n",
        "KEY_SEMICOLON = \";\""
      ]
    },
    {
      "cell_type": "code",
      "execution_count": null,
      "metadata": {
        "id": "6dB5_0VZ6LiU"
      },
      "outputs": [],
      "source": [
        "T_IF = \"<keyword \"+KEY_IF+\">\"\n",
        "T_ELSE = \"<keyword \"+KEY_ELSE+\">\"\n",
        "T_FUNCTION = \"<keyword \"+KEY_FUNCTION+\">\"\n",
        "T_RETURN = \"<keyword \"+KEY_RETURN+\">\"\n",
        "T_BRACKET_OPEN = \"<keyword \"+KEY_BRACKET_OPEN+\">\"\n",
        "T_BRACKET_CLOSE = \"<keyword \"+KEY_BRACKET_CLOSE+\">\"\n",
        "T_SQUARE_BRACKET_OPEN = \"<keyword \"+KEY_SQUARE_BRACKET_OPEN+\">\"\n",
        "T_SQUARE_BRACKET_CLOSE = \"<keyword \"+KEY_SQUARE_BRACKET_CLOSE+\">\"\n",
        "T_KEY_CLOSE = \"<keyword \"+KEY_KEY_CLOSE+\">\"\n",
        "T_KEY_OPEN = \"<keyword \"+KEY_KEY_OPEN+\">\"\n",
        "T_KEY_SEMICOLON = \"<keyword \"+KEY_SEMICOLON+\">\"\n",
        "T_LET = \"<let %s>\"\n",
        "T_VAR = \"<var %s>\"\n",
        "T_EXP = \"<exp %s>\"\n",
        "T_CONST = \"<const %s>\"\n",
        "T_INIT= \"<init %s>\"\n",
        "T_OP = \"<op %s>\"\n",
        "T_OPLOGICO = \"<oplogico %s>\"\n",
        "T_INT = \"<int %s>\"\n",
        "T_STRING = \"<string %s>\"\n",
        "T_IDENTIF = \"<id %s>\"\n",
        "T_ENDLINE = \"<endline %s>\""
      ]
    },
    {
      "cell_type": "markdown",
      "metadata": {
        "id": "1Uy83BAw0GBZ"
      },
      "source": [
        "## Desafio\n",
        "\n",
        "1. Permita que o AFD reconheça strings delimitadas por aspas duplas (\"), ao mesmo tempo, não permita que a string possua outras aspas duplas (além da abertura e fechamento)\n",
        "2. Permita que o AFD reconheça identificadores (nomes de variáveis)\n"
      ]
    },
    {
      "cell_type": "code",
      "execution_count": null,
      "metadata": {
        "colab": {
          "base_uri": "https://localhost:8080/"
        },
        "id": "TjtVD1dI122Z",
        "outputId": "261e1cc2-19b8-48a7-c2ea-de0ae2a16102"
      },
      "outputs": [
        {
          "name": "stdout",
          "output_type": "stream",
          "text": [
            "['<keyword function>', '<id calcularFatorial>', '<keyword (>', '<id n>', '<keyword )>', '<keyword {>']\n",
            "['<keyword if>', '<keyword (>', '<id n>', '<oplogico ===>', '<int 0>', '<oplogico ||>', '<id n>', '<oplogico ===>', '<int 1>', '<keyword )>', '<keyword {>']\n",
            "['<keyword return>', '<int 1>', '<keyword ;>']\n",
            "['<keyword }>', '<keyword else>', '<keyword {>']\n",
            "['<keyword return>', '<id n>', '<op *>', '<id calcularFatorial>', '<keyword (>', '<id n>', '<op ->', '<int 1>', '<keyword )>', '<keyword ;>']\n",
            "['<keyword }>']\n",
            "['<keyword }>']\n",
            "[]\n",
            "['<id const>', '<id numero>', '<op =>', '<int 5>', '<keyword ;>']\n",
            "['<id const>', '<id resultado>', '<op =>', '<id calcularFatorial>', '<keyword (>', '<id numero>', '<keyword )>', '<keyword ;>']\n"
          ]
        }
      ],
      "source": [
        "## definindo uma mensagem de erro para tokens que não puderem ser processados\n",
        "\n",
        "\n",
        "\n",
        "class StopExecution(Exception):\n",
        "    def _render_traceback_(self):\n",
        "        pass\n",
        "\n",
        "\n",
        "arquivo = open(nomeArquivo,'r')\n",
        "ln = 1\n",
        "for l in arquivo.readlines():\n",
        "    l = preprocessamento_linha(l)\n",
        "    tokens = []\n",
        "    for token in l.split():\n",
        "        try:\n",
        "            tokens.append(afd_principal(token))\n",
        "        except Exception as e:\n",
        "            print(tokens)\n",
        "            print(str(e) + \" na posição %i da linha %i\" % (l.index(token), ln), token)\n",
        "            raise StopExecution\n",
        "    ln += 1\n",
        "\n",
        "    print(tokens)"
      ]
    },
    {
      "cell_type": "code",
      "execution_count": null,
      "metadata": {
        "colab": {
          "base_uri": "https://localhost:8080/"
        },
        "id": "7xb46nma42Ad",
        "outputId": "66bd3273-7d23-496e-e06f-0a2b94a482de"
      },
      "outputs": [
        {
          "data": {
            "text/plain": [
              "['\"teste\"']"
            ]
          },
          "execution_count": 8,
          "metadata": {},
          "output_type": "execute_result"
        }
      ],
      "source": [
        "re.findall('^\"[^\"]*\"$', '\"teste\"')"
      ]
    },
    {
      "cell_type": "markdown",
      "metadata": {
        "id": "sNIfjEmt7nfP"
      },
      "source": [
        "-----\n",
        "\n",
        "# Desafio IF e Function"
      ]
    }
  ],
  "metadata": {
    "colab": {
      "provenance": []
    },
    "kernelspec": {
      "display_name": "Python 3",
      "language": "python",
      "name": "python3"
    },
    "language_info": {
      "codemirror_mode": {
        "name": "ipython",
        "version": 3
      },
      "file_extension": ".py",
      "mimetype": "text/x-python",
      "name": "python",
      "nbconvert_exporter": "python",
      "pygments_lexer": "ipython3",
      "version": "3.9.7"
    }
  },
  "nbformat": 4,
  "nbformat_minor": 0
}
