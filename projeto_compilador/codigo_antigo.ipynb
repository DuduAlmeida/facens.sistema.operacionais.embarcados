{
  "cells": [
    {
      "cell_type": "code",
      "execution_count": 2,
      "metadata": {
        "colab": {
          "base_uri": "https://localhost:8080/"
        },
        "id": "LalQU1Fk0GBT",
        "outputId": "ae9bef29-c6fb-4d4f-d57a-e395f364d7f0"
      },
      "outputs": [
        {
          "name": "stdout",
          "output_type": "stream",
          "text": [
            "let a;\n",
            "let b;\n",
            "let c;\n",
            "\n",
            "a = 5;\n",
            "b = 3;\n",
            "c = \"12\";\n",
            "\n",
            "result = (a + b);\n"
          ]
        }
      ],
      "source": [
        "## lendo o código fonte\n",
        "import re\n",
        "\n",
        "nomeArquivo = 'codigo.js'\n",
        "arquivo = open(nomeArquivo,'r')\n",
        "for l in arquivo.readlines():\n",
        "    l = l.replace('\\n','') # remove a quebra de linha\n",
        "    print(l)"
      ]
    },
    {
      "cell_type": "code",
      "execution_count": null,
      "metadata": {
        "id": "zNLtzhLxD1Ix"
      },
      "outputs": [],
      "source": [
        "def preprocessamento_linha(line_code):\n",
        "    line_code = re.sub(\"[\\\\(\\\\)\\\\{\\\\}\\\\;\\\\?\\\\:]\", \" \\\\g<0> \", line_code)\n",
        "\n",
        "    return line_code"
      ]
    },
    {
      "cell_type": "code",
      "execution_count": null,
      "metadata": {
        "id": "SXBUw7G261vF"
      },
      "outputs": [],
      "source": [
        "KEY_IF = \"if\"\n",
        "KEY_ELSE = \"else\"\n",
        "KEY_RETURN = \"return\"\n",
        "KEY_FUNCTION = \"function\"\n",
        "KEY_BRACKET_OPEN = \"(\"\n",
        "KEY_BRACKET_CLOSE = \")\"\n",
        "KEY_SQUARE_BRACKET_OPEN = \"[\"\n",
        "KEY_SQUARE_BRACKET_CLOSE = \"]\"\n",
        "KEY_KEY_OPEN = \"{\"\n",
        "KEY_KEY_CLOSE = \"}\"\n",
        "KEY_KEY_CLOSE = \"}\"\n",
        "KEY_SEMICOLON = \";\""
      ]
    },
    {
      "cell_type": "code",
      "execution_count": null,
      "metadata": {
        "id": "6dB5_0VZ6LiU"
      },
      "outputs": [],
      "source": [
        "T_IF = \"<keyword \"+KEY_IF+\">\"\n",
        "T_ELSE = \"<keyword \"+KEY_ELSE+\">\"\n",
        "T_FUNCTION = \"<keyword \"+KEY_FUNCTION+\">\"\n",
        "T_RETURN = \"<keyword \"+KEY_RETURN+\">\"\n",
        "T_BRACKET_OPEN = \"<keyword \"+KEY_BRACKET_OPEN+\">\"\n",
        "T_BRACKET_CLOSE = \"<keyword \"+KEY_BRACKET_CLOSE+\">\"\n",
        "T_SQUARE_BRACKET_OPEN = \"<keyword \"+KEY_SQUARE_BRACKET_OPEN+\">\"\n",
        "T_SQUARE_BRACKET_CLOSE = \"<keyword \"+KEY_SQUARE_BRACKET_CLOSE+\">\"\n",
        "T_KEY_CLOSE = \"<keyword \"+KEY_KEY_CLOSE+\">\"\n",
        "T_KEY_OPEN = \"<keyword \"+KEY_KEY_OPEN+\">\"\n",
        "T_KEY_SEMICOLON = \"<keyword \"+KEY_SEMICOLON+\">\"\n",
        "T_LET = \"<let %s>\"\n",
        "T_VAR = \"<var %s>\"\n",
        "T_EXP = \"<exp %s>\"\n",
        "T_CONST = \"<const %s>\"\n",
        "T_INIT= \"<init %s>\"\n",
        "T_OP = \"<op %s>\"\n",
        "T_OPLOGICO = \"<oplogico %s>\"\n",
        "T_INT = \"<int %s>\"\n",
        "T_STRING = \"<string %s>\"\n",
        "T_IDENTIF = \"<id %s>\"\n",
        "T_ENDLINE = \"<endline %s>\""
      ]
    },
    {
      "cell_type": "code",
      "execution_count": null,
      "metadata": {
        "id": "jXvK92zlHMH6"
      },
      "outputs": [],
      "source": [
        "\n",
        "def afd_principal(token):\n",
        "\n",
        "    if token == KEY_FUNCTION:\n",
        "        return T_FUNCTION\n",
        "\n",
        "    elif token == KEY_IF:\n",
        "        return T_IF\n",
        "\n",
        "    elif token == KEY_RETURN:\n",
        "        return T_RETURN\n",
        "\n",
        "    elif token == KEY_BRACKET_CLOSE:\n",
        "        return T_BRACKET_CLOSE\n",
        "\n",
        "    elif token == KEY_BRACKET_OPEN:\n",
        "        return T_BRACKET_OPEN\n",
        "\n",
        "    elif token == KEY_SQUARE_BRACKET_CLOSE:\n",
        "        return T_SQUARE_BRACKET_CLOSE\n",
        "\n",
        "    elif token == KEY_SQUARE_BRACKET_OPEN:\n",
        "        return T_SQUARE_BRACKET_OPEN\n",
        "\n",
        "    elif token == KEY_ELSE:\n",
        "        return T_ELSE\n",
        "\n",
        "    elif token == KEY_KEY_OPEN:\n",
        "        return T_KEY_OPEN\n",
        "\n",
        "    elif token == KEY_KEY_CLOSE:\n",
        "        return T_KEY_CLOSE\n",
        "\n",
        "    elif token == KEY_SEMICOLON:\n",
        "        return T_KEY_SEMICOLON\n",
        "\n",
        "    elif token == \"let\" or token == \"var\":\n",
        "        return T_INIT % token\n",
        "\n",
        "    elif re.match('^\"[^\"]*\"$', token):\n",
        "        return T_STRING % token\n",
        "\n",
        "    elif re.match('^[^\\W\\d][\\d\\w]*$',token):\n",
        "      return T_IDENTIF % token\n",
        "\n",
        "    elif re.match('(?:===?|!==?|[<!>]=?|[&|])',token):\n",
        "      return T_OPLOGICO % token\n",
        "\n",
        "    elif re.match('[=+-/\\*]', token):\n",
        "        return T_OP % token\n",
        "\n",
        "    elif token.isnumeric():\n",
        "      return T_INT % token\n",
        "\n",
        "    else:\n",
        "        raise ValueError('Valor inesperado')\n",
        "    return None"
      ]
    },
    {
      "cell_type": "code",
      "execution_count": null,
      "metadata": {
        "colab": {
          "base_uri": "https://localhost:8080/"
        },
        "id": "tiyXI-aN0GBY",
        "outputId": "f13bfda8-6981-46e6-f759-dc516e921cce"
      },
      "outputs": [
        {
          "name": "stdout",
          "output_type": "stream",
          "text": [
            "['function', 'calcularFatorial', '(', 'n', ')', '{']\n",
            "['if', '(', 'n', '===', '0', '||', 'n', '===', '1', ')', '{']\n",
            "['return', '1', ';']\n",
            "['}', 'else', '{']\n",
            "['return', 'n', '*', 'calcularFatorial', '(', 'n', '-', '1', ')', ';']\n",
            "['}']\n",
            "['}']\n",
            "[]\n",
            "['const', 'numero', '=', '5', ';']\n",
            "['const', 'resultado', '=', 'calcularFatorial', '(', 'numero', ')', ';']\n"
          ]
        }
      ],
      "source": [
        "## iniciando a definição dos tokens que serão a saída da análise léxica\n",
        "\n",
        "arquivo = open(nomeArquivo,'r')\n",
        "for line in arquivo.readlines():\n",
        "    line = preprocessamento_linha(line)\n",
        "    tokens = []\n",
        "    for token in line.split():\n",
        "        tokens.append(token)\n",
        "    print(tokens)"
      ]
    },
    {
      "cell_type": "markdown",
      "metadata": {
        "id": "1Uy83BAw0GBZ"
      },
      "source": [
        "## Desafio\n",
        "\n",
        "1. Permita que o AFD reconheça strings delimitadas por aspas duplas (\"), ao mesmo tempo, não permita que a string possua outras aspas duplas (além da abertura e fechamento)\n",
        "2. Permita que o AFD reconheça identificadores (nomes de variáveis)\n"
      ]
    },
    {
      "cell_type": "code",
      "execution_count": null,
      "metadata": {
        "colab": {
          "base_uri": "https://localhost:8080/"
        },
        "id": "TjtVD1dI122Z",
        "outputId": "261e1cc2-19b8-48a7-c2ea-de0ae2a16102"
      },
      "outputs": [
        {
          "name": "stdout",
          "output_type": "stream",
          "text": [
            "['<keyword function>', '<id calcularFatorial>', '<keyword (>', '<id n>', '<keyword )>', '<keyword {>']\n",
            "['<keyword if>', '<keyword (>', '<id n>', '<oplogico ===>', '<int 0>', '<oplogico ||>', '<id n>', '<oplogico ===>', '<int 1>', '<keyword )>', '<keyword {>']\n",
            "['<keyword return>', '<int 1>', '<keyword ;>']\n",
            "['<keyword }>', '<keyword else>', '<keyword {>']\n",
            "['<keyword return>', '<id n>', '<op *>', '<id calcularFatorial>', '<keyword (>', '<id n>', '<op ->', '<int 1>', '<keyword )>', '<keyword ;>']\n",
            "['<keyword }>']\n",
            "['<keyword }>']\n",
            "[]\n",
            "['<id const>', '<id numero>', '<op =>', '<int 5>', '<keyword ;>']\n",
            "['<id const>', '<id resultado>', '<op =>', '<id calcularFatorial>', '<keyword (>', '<id numero>', '<keyword )>', '<keyword ;>']\n"
          ]
        }
      ],
      "source": [
        "## definindo uma mensagem de erro para tokens que não puderem ser processados\n",
        "\n",
        "\n",
        "\n",
        "class StopExecution(Exception):\n",
        "    def _render_traceback_(self):\n",
        "        pass\n",
        "\n",
        "\n",
        "arquivo = open(nomeArquivo,'r')\n",
        "ln = 1\n",
        "for l in arquivo.readlines():\n",
        "    l = preprocessamento_linha(l)\n",
        "    tokens = []\n",
        "    for token in l.split():\n",
        "        try:\n",
        "            tokens.append(afd_principal(token))\n",
        "        except Exception as e:\n",
        "            print(tokens)\n",
        "            print(str(e) + \" na posição %i da linha %i\" % (l.index(token), ln), token)\n",
        "            raise StopExecution\n",
        "    ln += 1\n",
        "\n",
        "    print(tokens)"
      ]
    },
    {
      "cell_type": "code",
      "execution_count": null,
      "metadata": {
        "colab": {
          "base_uri": "https://localhost:8080/"
        },
        "id": "7xb46nma42Ad",
        "outputId": "66bd3273-7d23-496e-e06f-0a2b94a482de"
      },
      "outputs": [
        {
          "data": {
            "text/plain": [
              "['\"teste\"']"
            ]
          },
          "execution_count": 8,
          "metadata": {},
          "output_type": "execute_result"
        }
      ],
      "source": [
        "re.findall('^\"[^\"]*\"$', '\"teste\"')"
      ]
    },
    {
      "cell_type": "markdown",
      "metadata": {
        "id": "sNIfjEmt7nfP"
      },
      "source": [
        "-----\n",
        "\n",
        "# Desafio IF e Function"
      ]
    }
  ],
  "metadata": {
    "colab": {
      "provenance": []
    },
    "kernelspec": {
      "display_name": "Python 3",
      "language": "python",
      "name": "python3"
    },
    "language_info": {
      "codemirror_mode": {
        "name": "ipython",
        "version": 3
      },
      "file_extension": ".py",
      "mimetype": "text/x-python",
      "name": "python",
      "nbconvert_exporter": "python",
      "pygments_lexer": "ipython3",
      "version": "3.9.7"
    }
  },
  "nbformat": 4,
  "nbformat_minor": 0
}
